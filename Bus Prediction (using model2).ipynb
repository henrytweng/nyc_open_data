{
 "cells": [
  {
   "cell_type": "markdown",
   "metadata": {},
   "source": [
    "# Bus Ridership Prediction Tool (v2)\n",
    "\n",
    "Our tool predicts annual bus ridership for a borough, given user input of FHV annual trips, income, and borough selection.\n",
    "\n",
    "Thanks to the following groups for making this work possible:\n",
    "- [CrossCompute](https://crosscompute.com) for providing mentors and tutorials\n",
    "- [Tech Incubator at CUNY Queens College](https://techincubatorqc.com) for guiding the student teams\n",
    "- [NYC Open Data](https://opendata.cityofnewyork.us) for publishing datasets\n",
    "- [NYC Mayor's Office of Data Analytics](http://www.nyc.gov/analytics) for organizing NYC Open Data Week\n",
    "\n",
    "{fhv_count : annual fhv trips for a borough (in millions)}\n",
    "\n",
    "{income : median income for a borough}\n",
    "\n",
    "{boro_select : borough (please select one borough)}"
   ]
  },
  {
   "cell_type": "code",
   "execution_count": 2,
   "metadata": {},
   "outputs": [],
   "source": [
    "#CrossCompute\n",
    "fhv_count = '10'\n",
    "\n",
    "income = '50000'\n",
    "\n",
    "boro_select = \"\"\"\n",
    "    Bronx\n",
    "    \n",
    "    Bronx\n",
    "    Brooklyn\n",
    "    Manhattan\n",
    "    Queens\n",
    "    Staten Island\n",
    "\"\"\"\n",
    "target_folder = '/tmp'"
   ]
  },
  {
   "cell_type": "code",
   "execution_count": 19,
   "metadata": {},
   "outputs": [],
   "source": [
    "# Load model\n",
    "from pickle import load\n",
    "model = load(open('model3.pkl', 'rb'))"
   ]
  },
  {
   "cell_type": "code",
   "execution_count": 20,
   "metadata": {},
   "outputs": [],
   "source": [
    "fhv = int(fhv_count) * 1e6"
   ]
  },
  {
   "cell_type": "code",
   "execution_count": 21,
   "metadata": {},
   "outputs": [],
   "source": [
    "inc = int(income)"
   ]
  },
  {
   "cell_type": "code",
   "execution_count": 22,
   "metadata": {},
   "outputs": [],
   "source": [
    "boro = [0,0,0,0,0]\n",
    "if boro_select == 'Bronx': boro[0] = 1\n",
    "elif (boro_select == 'Brooklyn'): boro[1] = 1\n",
    "elif (boro_select == 'Manhattan'): boro[2] = 1\n",
    "elif (boro_select == 'Queens'): boro[3] = 1\n",
    "elif (boro_select == 'Staten Island'): boro[4] = 1"
   ]
  },
  {
   "cell_type": "code",
   "execution_count": 23,
   "metadata": {},
   "outputs": [
    {
     "data": {
      "text/plain": [
       "array([0, 0, 0, 0, 0])"
      ]
     },
     "execution_count": 23,
     "metadata": {},
     "output_type": "execute_result"
    }
   ],
   "source": [
    "import numpy as np\n",
    "boro = np.asarray(boro)\n",
    "boro"
   ]
  },
  {
   "cell_type": "code",
   "execution_count": 24,
   "metadata": {},
   "outputs": [],
   "source": [
    "import numpy as np\n",
    "X = np.array([fhv,inc,1,0,0,0,0])\n",
    "X[2:7] = boro"
   ]
  },
  {
   "cell_type": "code",
   "execution_count": 25,
   "metadata": {},
   "outputs": [],
   "source": [
    "output = model.predict([X])"
   ]
  },
  {
   "cell_type": "code",
   "execution_count": 27,
   "metadata": {},
   "outputs": [
    {
     "data": {
      "text/plain": [
       "0.0003549596462558807"
      ]
     },
     "execution_count": 27,
     "metadata": {},
     "output_type": "execute_result"
    }
   ],
   "source": [
    "model.coef_[0]"
   ]
  },
  {
   "cell_type": "code",
   "execution_count": 28,
   "metadata": {},
   "outputs": [
    {
     "name": "stdout",
     "output_type": "stream",
     "text": [
      "result_text_path = /tmp/result.txt\n"
     ]
    }
   ],
   "source": [
    "from os.path import join\n",
    "lines = []\n",
    "lines.append('Predicted Bus Ridership Count = ' + str(output[0]))\n",
    "lines.append('FHV ridership coefficient = ' + str(model.coef_[0]))\n",
    "lines.append('Income ridership coefficient = ' + str(model.coef_[1]))\n",
    "result_text = '\\n'.join(lines)\n",
    "result_text_path = join(target_folder, 'result.txt')\n",
    "open(result_text_path, 'wt').write(result_text)\n",
    "print('result_text_path = %s' % result_text_path)"
   ]
  },
  {
   "cell_type": "code",
   "execution_count": null,
   "metadata": {},
   "outputs": [],
   "source": []
  }
 ],
 "metadata": {
  "kernelspec": {
   "display_name": "Python 3",
   "language": "python",
   "name": "python3"
  },
  "language_info": {
   "codemirror_mode": {
    "name": "ipython",
    "version": 3
   },
   "file_extension": ".py",
   "mimetype": "text/x-python",
   "name": "python",
   "nbconvert_exporter": "python",
   "pygments_lexer": "ipython3",
   "version": "3.6.6"
  }
 },
 "nbformat": 4,
 "nbformat_minor": 2
}
