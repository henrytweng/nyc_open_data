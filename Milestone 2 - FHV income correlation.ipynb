{
 "cells": [
  {
   "cell_type": "code",
   "execution_count": 1,
   "metadata": {},
   "outputs": [],
   "source": [
    "import pandas as pd\n",
    "df1 = pd.read_csv('fhvincome.csv')"
   ]
  },
  {
   "cell_type": "code",
   "execution_count": 2,
   "metadata": {},
   "outputs": [],
   "source": [
    "def borough(nta):\n",
    "    n = str(nta)\n",
    "    if 'BX' in n: return 'Bronx'\n",
    "    elif 'BK' in n: return 'Brooklyn'\n",
    "    elif 'QN' in n: return 'Queens'\n",
    "    elif 'MN' in n: return 'Manhattan'\n",
    "    elif 'SI' in n: return 'Staten Island'"
   ]
  },
  {
   "cell_type": "code",
   "execution_count": 3,
   "metadata": {},
   "outputs": [],
   "source": [
    "df1['Borough'] = df1['NTA'].apply(borough)"
   ]
  },
  {
   "cell_type": "code",
   "execution_count": 4,
   "metadata": {},
   "outputs": [
    {
     "data": {
      "text/html": [
       "<div>\n",
       "<style scoped>\n",
       "    .dataframe tbody tr th:only-of-type {\n",
       "        vertical-align: middle;\n",
       "    }\n",
       "\n",
       "    .dataframe tbody tr th {\n",
       "        vertical-align: top;\n",
       "    }\n",
       "\n",
       "    .dataframe thead th {\n",
       "        text-align: right;\n",
       "    }\n",
       "</style>\n",
       "<table border=\"1\" class=\"dataframe\">\n",
       "  <thead>\n",
       "    <tr style=\"text-align: right;\">\n",
       "      <th></th>\n",
       "      <th>NTA</th>\n",
       "      <th>Taxi Zone</th>\n",
       "      <th>Ride Count</th>\n",
       "      <th>Median Income</th>\n",
       "      <th>Borough</th>\n",
       "    </tr>\n",
       "  </thead>\n",
       "  <tbody>\n",
       "    <tr>\n",
       "      <th>0</th>\n",
       "      <td>BX31</td>\n",
       "      <td>3</td>\n",
       "      <td>163797</td>\n",
       "      <td>69099.0</td>\n",
       "      <td>Bronx</td>\n",
       "    </tr>\n",
       "    <tr>\n",
       "      <th>1</th>\n",
       "      <td>SI48</td>\n",
       "      <td>5</td>\n",
       "      <td>17136</td>\n",
       "      <td>96734.0</td>\n",
       "      <td>Staten Island</td>\n",
       "    </tr>\n",
       "    <tr>\n",
       "      <th>2</th>\n",
       "      <td>SI14</td>\n",
       "      <td>6</td>\n",
       "      <td>31369</td>\n",
       "      <td>83357.0</td>\n",
       "      <td>Staten Island</td>\n",
       "    </tr>\n",
       "    <tr>\n",
       "      <th>3</th>\n",
       "      <td>QN70</td>\n",
       "      <td>7</td>\n",
       "      <td>1002109</td>\n",
       "      <td>61469.0</td>\n",
       "      <td>Queens</td>\n",
       "    </tr>\n",
       "    <tr>\n",
       "      <th>4</th>\n",
       "      <td>QN48</td>\n",
       "      <td>9</td>\n",
       "      <td>76735</td>\n",
       "      <td>85282.0</td>\n",
       "      <td>Queens</td>\n",
       "    </tr>\n",
       "  </tbody>\n",
       "</table>\n",
       "</div>"
      ],
      "text/plain": [
       "    NTA  Taxi Zone  Ride Count  Median Income        Borough\n",
       "0  BX31          3      163797        69099.0          Bronx\n",
       "1  SI48          5       17136        96734.0  Staten Island\n",
       "2  SI14          6       31369        83357.0  Staten Island\n",
       "3  QN70          7     1002109        61469.0         Queens\n",
       "4  QN48          9       76735        85282.0         Queens"
      ]
     },
     "execution_count": 4,
     "metadata": {},
     "output_type": "execute_result"
    }
   ],
   "source": [
    "df1[:5]"
   ]
  },
  {
   "cell_type": "code",
   "execution_count": 5,
   "metadata": {},
   "outputs": [
    {
     "data": {
      "text/html": [
       "<div>\n",
       "<style scoped>\n",
       "    .dataframe tbody tr th:only-of-type {\n",
       "        vertical-align: middle;\n",
       "    }\n",
       "\n",
       "    .dataframe tbody tr th {\n",
       "        vertical-align: top;\n",
       "    }\n",
       "\n",
       "    .dataframe thead th {\n",
       "        text-align: right;\n",
       "    }\n",
       "</style>\n",
       "<table border=\"1\" class=\"dataframe\">\n",
       "  <thead>\n",
       "    <tr style=\"text-align: right;\">\n",
       "      <th></th>\n",
       "      <th>Ride Count</th>\n",
       "      <th>Median Income</th>\n",
       "      <th>Borough</th>\n",
       "    </tr>\n",
       "  </thead>\n",
       "  <tbody>\n",
       "    <tr>\n",
       "      <th>0</th>\n",
       "      <td>163797</td>\n",
       "      <td>69099.0</td>\n",
       "      <td>Bronx</td>\n",
       "    </tr>\n",
       "    <tr>\n",
       "      <th>1</th>\n",
       "      <td>17136</td>\n",
       "      <td>96734.0</td>\n",
       "      <td>Staten Island</td>\n",
       "    </tr>\n",
       "    <tr>\n",
       "      <th>2</th>\n",
       "      <td>31369</td>\n",
       "      <td>83357.0</td>\n",
       "      <td>Staten Island</td>\n",
       "    </tr>\n",
       "    <tr>\n",
       "      <th>3</th>\n",
       "      <td>1002109</td>\n",
       "      <td>61469.0</td>\n",
       "      <td>Queens</td>\n",
       "    </tr>\n",
       "    <tr>\n",
       "      <th>4</th>\n",
       "      <td>76735</td>\n",
       "      <td>85282.0</td>\n",
       "      <td>Queens</td>\n",
       "    </tr>\n",
       "  </tbody>\n",
       "</table>\n",
       "</div>"
      ],
      "text/plain": [
       "   Ride Count  Median Income        Borough\n",
       "0      163797        69099.0          Bronx\n",
       "1       17136        96734.0  Staten Island\n",
       "2       31369        83357.0  Staten Island\n",
       "3     1002109        61469.0         Queens\n",
       "4       76735        85282.0         Queens"
      ]
     },
     "execution_count": 5,
     "metadata": {},
     "output_type": "execute_result"
    }
   ],
   "source": [
    "dataset = df1[['Ride Count', 'Median Income', 'Borough']]\n",
    "dataset[:5]"
   ]
  },
  {
   "cell_type": "code",
   "execution_count": 16,
   "metadata": {},
   "outputs": [
    {
     "data": {
      "image/png": "[encoded data removed]",
      "text/plain": [
       "<matplotlib.figure.Figure at 0x7fe1594ecb70>"
      ]
     },
     "metadata": {
      "needs_background": "light"
     },
     "output_type": "display_data"
    }
   ],
   "source": [
    "import matplotlib.pyplot as plt\n",
    "plt.subplot(211)\n",
    "dataset['Median Income'].plot(kind ='hist')\n",
    "plt.subplot(212)\n",
    "dataset['Ride Count'].plot(kind = 'hist')\n",
    "plt.savefig('FHV-Income Hist.png')"
   ]
  },
  {
   "cell_type": "code",
   "execution_count": 17,
   "metadata": {},
   "outputs": [
    {
     "data": {
      "text/plain": [
       "(0.8195386528968811, 9.849962642402565e-13)"
      ]
     },
     "execution_count": 17,
     "metadata": {},
     "output_type": "execute_result"
    }
   ],
   "source": [
    "#Testing for normality\n",
    "from scipy import stats\n",
    "stats.shapiro(dataset['Ride Count'])"
   ]
  },
  {
   "cell_type": "code",
   "execution_count": 18,
   "metadata": {},
   "outputs": [
    {
     "data": {
      "text/plain": [
       "(0.9301915168762207, 5.388856152421795e-07)"
      ]
     },
     "execution_count": 18,
     "metadata": {},
     "output_type": "execute_result"
    }
   ],
   "source": [
    "stats.shapiro(dataset['Median Income'])"
   ]
  },
  {
   "cell_type": "code",
   "execution_count": 19,
   "metadata": {},
   "outputs": [],
   "source": [
    "#Our data are not normal, let's transform ride count and income using logarithmic transformation\n",
    "y = dataset['Ride Count'].values\n",
    "x1 = dataset['Median Income'].values"
   ]
  },
  {
   "cell_type": "code",
   "execution_count": 20,
   "metadata": {},
   "outputs": [
    {
     "data": {
      "image/png": "[encoded data removed]",
      "text/plain": [
       "<matplotlib.figure.Figure at 0x7fe161e2fd30>"
      ]
     },
     "metadata": {
      "needs_background": "light"
     },
     "output_type": "display_data"
    }
   ],
   "source": [
    "import numpy as np\n",
    "ylog = np.log(y)\n",
    "x1log = np.log(x1)\n",
    "plt.subplot(211)\n",
    "plt.hist(ylog)\n",
    "plt.subplot(212)\n",
    "plt.hist(x1log)\n",
    "plt.savefig('FHV-Income Hist(log).png')"
   ]
  },
  {
   "cell_type": "code",
   "execution_count": 21,
   "metadata": {},
   "outputs": [
    {
     "data": {
      "text/plain": [
       "(-0.3662489107454372, 2.056331050029689e-06)"
      ]
     },
     "execution_count": 21,
     "metadata": {},
     "output_type": "execute_result"
    }
   ],
   "source": [
    "from scipy import stats\n",
    "stats.pearsonr(x1log, ylog)"
   ]
  },
  {
   "cell_type": "code",
   "execution_count": 23,
   "metadata": {},
   "outputs": [
    {
     "data": {
      "image/png": "[encoded data removed]",
      "text/plain": [
       "<matplotlib.figure.Figure at 0x7fe158e98dd8>"
      ]
     },
     "metadata": {
      "needs_background": "light"
     },
     "output_type": "display_data"
    }
   ],
   "source": [
    "#For comparison, a regression of x1 and y\n",
    "from sklearn.linear_model import LinearRegression\n",
    "model = LinearRegression()\n",
    "x1 = x1.reshape(159,1)\n",
    "y = y.reshape(159,1)\n",
    "model.fit(x1, y)\n",
    "plt.scatter(x1, y)\n",
    "plt.title(\"FHV Trips and Income by Neighborhood Regression\")\n",
    "plt.xlabel(\"Median Income\")\n",
    "plt.ylabel(\"FHV Trips\")\n",
    "plt.plot(x1, model.predict(x1), color = 'red')\n",
    "plt.savefig('fhv-income-reg.png')"
   ]
  },
  {
   "cell_type": "code",
   "execution_count": 24,
   "metadata": {},
   "outputs": [
    {
     "data": {
      "image/png": "[encoded data removed]",
      "text/plain": [
       "<matplotlib.figure.Figure at 0x7fe1619cc588>"
      ]
     },
     "metadata": {
      "needs_background": "light"
     },
     "output_type": "display_data"
    }
   ],
   "source": [
    "model2 = LinearRegression()\n",
    "x1log = x1log.reshape(159,1)\n",
    "ylog = ylog.reshape(159,1)\n",
    "model2.fit(x1log, ylog)\n",
    "plt.scatter(x1log, ylog)\n",
    "plt.title(\"FHV Trips and Income by Neighborhood Regression\")\n",
    "plt.xlabel(\"ln of Median Income\")\n",
    "plt.ylabel(\"ln of FHV Trips\")\n",
    "plt.plot(x1log, model2.predict(x1log), color = 'red')\n",
    "plt.savefig('fhv-income-reg-log.png')"
   ]
  },
  {
   "cell_type": "code",
   "execution_count": null,
   "metadata": {},
   "outputs": [],
   "source": []
  }
 ],
 "metadata": {
  "kernelspec": {
   "display_name": "Python 3",
   "language": "python",
   "name": "python3"
  },
  "language_info": {
   "codemirror_mode": {
    "name": "ipython",
    "version": 3
   },
   "file_extension": ".py",
   "mimetype": "text/x-python",
   "name": "python",
   "nbconvert_exporter": "python",
   "pygments_lexer": "ipython3",
   "version": "3.6.6"
  }
 },
 "nbformat": 4,
 "nbformat_minor": 2
}
