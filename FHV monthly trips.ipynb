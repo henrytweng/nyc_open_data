{
 "cells": [
  {
   "cell_type": "code",
   "execution_count": 1,
   "metadata": {},
   "outputs": [
    {
     "name": "stdout",
     "output_type": "stream",
     "text": [
      "<class 'pandas.core.frame.DataFrame'>\n",
      "Int64Index: 20100 entries, 0 to 23415\n",
      "Data columns (total 3 columns):\n",
      "Year                      20100 non-null int64\n",
      "Month                     20100 non-null int64\n",
      "Total Dispatched Trips    20100 non-null int64\n",
      "dtypes: int64(3)\n",
      "memory usage: 628.1 KB\n"
     ]
    }
   ],
   "source": [
    "import pandas as pd\n",
    "df = pd.read_csv(\"https://data.cityofnewyork.us/api/views/2v9c-2k7f/rows.csv?accessType=DOWNLOAD\")\n",
    "df = df[[\"Year\", \"Month\", \"Total Dispatched Trips\"]]\n",
    "df = df[df.Year >2015]\n",
    "df.info()"
   ]
  },
  {
   "cell_type": "code",
   "execution_count": 2,
   "metadata": {},
   "outputs": [
    {
     "data": {
      "text/html": [
       "<div>\n",
       "<style scoped>\n",
       "    .dataframe tbody tr th:only-of-type {\n",
       "        vertical-align: middle;\n",
       "    }\n",
       "\n",
       "    .dataframe tbody tr th {\n",
       "        vertical-align: top;\n",
       "    }\n",
       "\n",
       "    .dataframe thead th {\n",
       "        text-align: right;\n",
       "    }\n",
       "</style>\n",
       "<table border=\"1\" class=\"dataframe\">\n",
       "  <thead>\n",
       "    <tr style=\"text-align: right;\">\n",
       "      <th></th>\n",
       "      <th>Year</th>\n",
       "      <th>Month</th>\n",
       "      <th>Total Dispatched Trips</th>\n",
       "      <th>Date</th>\n",
       "    </tr>\n",
       "  </thead>\n",
       "  <tbody>\n",
       "    <tr>\n",
       "      <th>0</th>\n",
       "      <td>2017</td>\n",
       "      <td>3</td>\n",
       "      <td>926</td>\n",
       "      <td>2017-03-01</td>\n",
       "    </tr>\n",
       "    <tr>\n",
       "      <th>3</th>\n",
       "      <td>2017</td>\n",
       "      <td>12</td>\n",
       "      <td>1071</td>\n",
       "      <td>2017-12-01</td>\n",
       "    </tr>\n",
       "    <tr>\n",
       "      <th>4</th>\n",
       "      <td>2016</td>\n",
       "      <td>5</td>\n",
       "      <td>320</td>\n",
       "      <td>2016-05-01</td>\n",
       "    </tr>\n",
       "  </tbody>\n",
       "</table>\n",
       "</div>"
      ],
      "text/plain": [
       "   Year  Month  Total Dispatched Trips       Date\n",
       "0  2017      3                     926 2017-03-01\n",
       "3  2017     12                    1071 2017-12-01\n",
       "4  2016      5                     320 2016-05-01"
      ]
     },
     "execution_count": 2,
     "metadata": {},
     "output_type": "execute_result"
    }
   ],
   "source": [
    "df['Date'] = pd.to_datetime(dict(year=df.Year, month=df.Month, day=1))\n",
    "df[:3]"
   ]
  },
  {
   "cell_type": "code",
   "execution_count": 3,
   "metadata": {},
   "outputs": [],
   "source": [
    "fhv_df = df.groupby(['Date']).sum()\n",
    "fhv_df = fhv_df.drop(columns = ['Year', 'Month'])"
   ]
  },
  {
   "cell_type": "code",
   "execution_count": 4,
   "metadata": {},
   "outputs": [
    {
     "data": {
      "text/html": [
       "<div>\n",
       "<style scoped>\n",
       "    .dataframe tbody tr th:only-of-type {\n",
       "        vertical-align: middle;\n",
       "    }\n",
       "\n",
       "    .dataframe tbody tr th {\n",
       "        vertical-align: top;\n",
       "    }\n",
       "\n",
       "    .dataframe thead th {\n",
       "        text-align: right;\n",
       "    }\n",
       "</style>\n",
       "<table border=\"1\" class=\"dataframe\">\n",
       "  <thead>\n",
       "    <tr style=\"text-align: right;\">\n",
       "      <th></th>\n",
       "      <th>Total Dispatched Trips</th>\n",
       "    </tr>\n",
       "    <tr>\n",
       "      <th>Date</th>\n",
       "      <th></th>\n",
       "    </tr>\n",
       "  </thead>\n",
       "  <tbody>\n",
       "    <tr>\n",
       "      <th>2016-01-01</th>\n",
       "      <td>8323057</td>\n",
       "    </tr>\n",
       "    <tr>\n",
       "      <th>2016-02-01</th>\n",
       "      <td>9330832</td>\n",
       "    </tr>\n",
       "    <tr>\n",
       "      <th>2016-03-01</th>\n",
       "      <td>9548284</td>\n",
       "    </tr>\n",
       "  </tbody>\n",
       "</table>\n",
       "</div>"
      ],
      "text/plain": [
       "            Total Dispatched Trips\n",
       "Date                              \n",
       "2016-01-01                 8323057\n",
       "2016-02-01                 9330832\n",
       "2016-03-01                 9548284"
      ]
     },
     "execution_count": 4,
     "metadata": {},
     "output_type": "execute_result"
    }
   ],
   "source": [
    "fhv_df[:3]"
   ]
  },
  {
   "cell_type": "code",
   "execution_count": 14,
   "metadata": {},
   "outputs": [
    {
     "data": {
      "image/png": "[encoded data removed]",
      "text/plain": [
       "<matplotlib.figure.Figure at 0x7fd63c825cc0>"
      ]
     },
     "metadata": {
      "needs_background": "light"
     },
     "output_type": "display_data"
    }
   ],
   "source": [
    "import matplotlib.pyplot as plt\n",
    "%matplotlib inline\n",
    "fig = fhv_df.plot()\n",
    "plt.title(\"Monthly FHV Ridership\")\n",
    "plt.xlabel(\"Month\")\n",
    "plt.ylabel(\"FHV Ridership\")\n",
    "fig.get_figure().savefig('fhv1.png', bbox_inches='tight')\n",
    "plt.show()"
   ]
  },
  {
   "cell_type": "code",
   "execution_count": 15,
   "metadata": {},
   "outputs": [],
   "source": [
    "fhv_df.to_csv('monthly_FHV_count.csv', index = False)"
   ]
  },
  {
   "cell_type": "code",
   "execution_count": 16,
   "metadata": {},
   "outputs": [
    {
     "name": "stdout",
     "output_type": "stream",
     "text": [
      "total 5532\r\n",
      "-rw-r--r--. 1 user user    5704 Feb 23 04:18  16data.csv\r\n",
      "-rw-r--r--. 1 user user    3539 Feb 23 03:07  2016_For_Hire_Vehicle_Trip_Data.csv\r\n",
      "-rw-r--r--. 1 user user  879094 Feb 23 03:52  2016_tlc_factbook.xlsx\r\n",
      "-rw-r--r--. 1 user user   17913 Feb 27 19:59  fhv1.png\r\n",
      "-rw-r--r--. 1 user user   44592 Feb 27 19:50 'FHV data cleansing, prep bus data.ipynb'\r\n",
      "-rw-r--r--. 1 user user    3775 Feb 22 01:21  fhvincome.csv\r\n",
      "-rw-r--r--. 1 user user   27283 Feb 27 19:59 'FHV Monthly Trips.ipynb'\r\n",
      "-rw-r--r--. 1 user user   62268 Feb 22 23:18  FHV_trip_by_neighborhood.ipynb\r\n",
      "-rw-r--r--. 1 user user   35158 Feb 22 20:07 'geotable, summing trips by NTA.ipynb'\r\n",
      "-rw-r--r--. 1 user user 4156158 Feb 22 23:18 'Income by neighborhood.ipynb'\r\n",
      "-rw-r--r--. 1 user user   46333 Feb 27 19:59 'Main Tool.ipynb'\r\n",
      "-rw-r--r--. 1 user user   73250 Feb 22 23:38 'Milestone 2 - FHV and Income.ipynb'\r\n",
      "-rw-r--r--. 1 user user   31564 Feb 25 09:21 'Milestone 3 OHE categorical transform, training model.ipynb'\r\n",
      "-rw-r--r--. 1 user user   64153 Feb 25 09:00 'Milestone 3 training dataset prep.ipynb'\r\n",
      "-rw-r--r--. 1 user user     963 Feb 15 20:55  model.pkl\r\n",
      "-rw-r--r--. 1 user user     309 Feb 15 21:02  monthly_bus_count.csv\r\n",
      "-rw-r--r--. 1 user user     784 Feb 15 20:55  monthly_FHV_count_crossval.csv\r\n",
      "-rw-r--r--. 1 user user     335 Feb 27 19:59  monthly_FHV_count.csv\r\n",
      "-rw-r--r--. 1 user user  139575 Feb 22 22:24 'MTA Trips Regression.ipynb'\r\n",
      "-rw-r--r--. 1 user user     489 Feb 25 08:14  training_dataset.csv\r\n",
      "-rw-r--r--. 1 user user    4829 Feb 15 04:14  trip.csv\r\n",
      "-rw-r--r--. 1 user user    4047 Feb 20 03:45  tripsonly.csv\r\n",
      "-rw-r--r--. 1 user user    3731 Feb 22 01:20  tripsx99.csv\r\n",
      "-rw-r--r--. 1 user user     378 Feb 22 00:42  yearly_busbyboro.csv\r\n",
      "-rw-r--r--. 1 user user     261 Feb 25 07:45  yearly_tripbyboro.csv\r\n",
      "-rw-r--r--. 1 user user    2266 Feb 20 03:42  zone_to_nta.csv\r\n"
     ]
    }
   ],
   "source": [
    "ls -l"
   ]
  },
  {
   "cell_type": "code",
   "execution_count": null,
   "metadata": {},
   "outputs": [],
   "source": []
  }
 ],
 "metadata": {
  "kernelspec": {
   "display_name": "Python 3",
   "language": "python",
   "name": "python3"
  },
  "language_info": {
   "codemirror_mode": {
    "name": "ipython",
    "version": 3
   },
   "file_extension": ".py",
   "mimetype": "text/x-python",
   "name": "python",
   "nbconvert_exporter": "python",
   "pygments_lexer": "ipython3",
   "version": "3.6.6"
  }
 },
 "nbformat": 4,
 "nbformat_minor": 2
}
