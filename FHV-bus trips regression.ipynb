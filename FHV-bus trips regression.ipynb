{
 "cells": [
  {
   "cell_type": "code",
   "execution_count": 1,
   "metadata": {},
   "outputs": [],
   "source": [
    "FHV_table_path = 'monthly_FHV_count.csv'"
   ]
  },
  {
   "cell_type": "code",
   "execution_count": 2,
   "metadata": {},
   "outputs": [
    {
     "data": {
      "text/plain": [
       "['MTA_Performance_Agencies.csv',\n",
       " 'MTA_Performance_LIRR.csv',\n",
       " 'MTA_Performance_MNR.csv',\n",
       " 'MTA_Performance_MTABUS.csv',\n",
       " 'MTA_Performance_NYCT.csv',\n",
       " 'MTA_Performance_TBTA.csv',\n",
       " 'Performance-MetaData.xlsx',\n",
       " 'Performance_LIRR.csv',\n",
       " 'Performance_LIRR.xml',\n",
       " 'Performance_MNRR.csv',\n",
       " 'Performance_MNRR.xml',\n",
       " 'Performance_MTABUS.csv',\n",
       " 'Performance_MTABUS.xml',\n",
       " 'Performance_NYCT.csv',\n",
       " 'Performance_NYCT.xml',\n",
       " 'Performance_schema.xsd',\n",
       " 'Performance_TBTA.csv',\n",
       " 'Performance_TBTA.xml']"
      ]
     },
     "execution_count": 2,
     "metadata": {},
     "output_type": "execute_result"
    }
   ],
   "source": [
    "from io import BytesIO\n",
    "from zipfile import ZipFile\n",
    "import requests\n",
    "\n",
    "url = 'http://web.mta.info/persdashboard/perxml/MTA_Performance_Datall.zip'\n",
    "content = requests.get(url)\n",
    "\n",
    "#unzip the content\n",
    "f = ZipFile(BytesIO(content.content))\n",
    "f.namelist()"
   ]
  },
  {
   "cell_type": "code",
   "execution_count": 3,
   "metadata": {},
   "outputs": [
    {
     "name": "stdout",
     "output_type": "stream",
     "text": [
      "<class 'pandas.core.frame.DataFrame'>\n",
      "RangeIndex: 1813 entries, 0 to 1812\n",
      "Data columns (total 4 columns):\n",
      "INDICATOR_NAME    1813 non-null object\n",
      "PERIOD_YEAR       1813 non-null int64\n",
      "PERIOD_MONTH      1813 non-null int64\n",
      "MONTHLY_ACTUAL    1813 non-null float64\n",
      "dtypes: float64(1), int64(2), object(1)\n",
      "memory usage: 56.7+ KB\n"
     ]
    }
   ],
   "source": [
    "import pandas as pd\n",
    "df1 = pd.read_csv(f.open('Performance_MTABUS.csv'))\n",
    "df1 = df1[[\"INDICATOR_NAME\", \"PERIOD_YEAR\", \"PERIOD_MONTH\", \"MONTHLY_ACTUAL\"]]\n",
    "df1.info()\n",
    "#MTA Bus Ridership"
   ]
  },
  {
   "cell_type": "code",
   "execution_count": 4,
   "metadata": {},
   "outputs": [
    {
     "data": {
      "text/html": [
       "<div>\n",
       "<style scoped>\n",
       "    .dataframe tbody tr th:only-of-type {\n",
       "        vertical-align: middle;\n",
       "    }\n",
       "\n",
       "    .dataframe tbody tr th {\n",
       "        vertical-align: top;\n",
       "    }\n",
       "\n",
       "    .dataframe thead th {\n",
       "        text-align: right;\n",
       "    }\n",
       "</style>\n",
       "<table border=\"1\" class=\"dataframe\">\n",
       "  <thead>\n",
       "    <tr style=\"text-align: right;\">\n",
       "      <th></th>\n",
       "      <th>INDICATOR_NAME</th>\n",
       "      <th>PERIOD_YEAR</th>\n",
       "      <th>PERIOD_MONTH</th>\n",
       "      <th>MONTHLY_ACTUAL</th>\n",
       "    </tr>\n",
       "  </thead>\n",
       "  <tbody>\n",
       "    <tr>\n",
       "      <th>334</th>\n",
       "      <td>Total Ridership - MTA Bus</td>\n",
       "      <td>2016</td>\n",
       "      <td>1</td>\n",
       "      <td>9464783.0</td>\n",
       "    </tr>\n",
       "    <tr>\n",
       "      <th>335</th>\n",
       "      <td>Total Ridership - MTA Bus</td>\n",
       "      <td>2016</td>\n",
       "      <td>2</td>\n",
       "      <td>9650946.0</td>\n",
       "    </tr>\n",
       "    <tr>\n",
       "      <th>336</th>\n",
       "      <td>Total Ridership - MTA Bus</td>\n",
       "      <td>2016</td>\n",
       "      <td>3</td>\n",
       "      <td>11393621.0</td>\n",
       "    </tr>\n",
       "  </tbody>\n",
       "</table>\n",
       "</div>"
      ],
      "text/plain": [
       "                 INDICATOR_NAME  PERIOD_YEAR  PERIOD_MONTH  MONTHLY_ACTUAL\n",
       "334  Total Ridership - MTA Bus          2016             1       9464783.0\n",
       "335  Total Ridership - MTA Bus          2016             2       9650946.0\n",
       "336  Total Ridership - MTA Bus          2016             3      11393621.0"
      ]
     },
     "execution_count": 4,
     "metadata": {},
     "output_type": "execute_result"
    }
   ],
   "source": [
    "#Prepare for FHV regression\n",
    "mta_df = df1[((df1.PERIOD_YEAR > 2015))&(df1.INDICATOR_NAME == \"Total Ridership - MTA Bus \")]\n",
    "mta_df[:3]"
   ]
  },
  {
   "cell_type": "code",
   "execution_count": 5,
   "metadata": {},
   "outputs": [
    {
     "name": "stderr",
     "output_type": "stream",
     "text": [
      "/home/user/.virtualenvs/crosscompute/lib/python3.6/site-packages/ipykernel_launcher.py:1: SettingWithCopyWarning: \n",
      "A value is trying to be set on a copy of a slice from a DataFrame.\n",
      "Try using .loc[row_indexer,col_indexer] = value instead\n",
      "\n",
      "See the caveats in the documentation: http://pandas.pydata.org/pandas-docs/stable/indexing.html#indexing-view-versus-copy\n",
      "  \"\"\"Entry point for launching an IPython kernel.\n"
     ]
    },
    {
     "data": {
      "text/html": [
       "<div>\n",
       "<style scoped>\n",
       "    .dataframe tbody tr th:only-of-type {\n",
       "        vertical-align: middle;\n",
       "    }\n",
       "\n",
       "    .dataframe tbody tr th {\n",
       "        vertical-align: top;\n",
       "    }\n",
       "\n",
       "    .dataframe thead th {\n",
       "        text-align: right;\n",
       "    }\n",
       "</style>\n",
       "<table border=\"1\" class=\"dataframe\">\n",
       "  <thead>\n",
       "    <tr style=\"text-align: right;\">\n",
       "      <th></th>\n",
       "      <th>INDICATOR_NAME</th>\n",
       "      <th>PERIOD_YEAR</th>\n",
       "      <th>PERIOD_MONTH</th>\n",
       "      <th>MONTHLY_ACTUAL</th>\n",
       "    </tr>\n",
       "    <tr>\n",
       "      <th>Date</th>\n",
       "      <th></th>\n",
       "      <th></th>\n",
       "      <th></th>\n",
       "      <th></th>\n",
       "    </tr>\n",
       "  </thead>\n",
       "  <tbody>\n",
       "    <tr>\n",
       "      <th>2016-01-01</th>\n",
       "      <td>Total Ridership - MTA Bus</td>\n",
       "      <td>2016</td>\n",
       "      <td>1</td>\n",
       "      <td>9464783.0</td>\n",
       "    </tr>\n",
       "    <tr>\n",
       "      <th>2016-02-01</th>\n",
       "      <td>Total Ridership - MTA Bus</td>\n",
       "      <td>2016</td>\n",
       "      <td>2</td>\n",
       "      <td>9650946.0</td>\n",
       "    </tr>\n",
       "    <tr>\n",
       "      <th>2016-03-01</th>\n",
       "      <td>Total Ridership - MTA Bus</td>\n",
       "      <td>2016</td>\n",
       "      <td>3</td>\n",
       "      <td>11393621.0</td>\n",
       "    </tr>\n",
       "  </tbody>\n",
       "</table>\n",
       "</div>"
      ],
      "text/plain": [
       "                        INDICATOR_NAME  PERIOD_YEAR  PERIOD_MONTH  \\\n",
       "Date                                                                \n",
       "2016-01-01  Total Ridership - MTA Bus          2016             1   \n",
       "2016-02-01  Total Ridership - MTA Bus          2016             2   \n",
       "2016-03-01  Total Ridership - MTA Bus          2016             3   \n",
       "\n",
       "            MONTHLY_ACTUAL  \n",
       "Date                        \n",
       "2016-01-01       9464783.0  \n",
       "2016-02-01       9650946.0  \n",
       "2016-03-01      11393621.0  "
      ]
     },
     "execution_count": 5,
     "metadata": {},
     "output_type": "execute_result"
    }
   ],
   "source": [
    "mta_df['Date'] = pd.to_datetime(dict(year=mta_df.PERIOD_YEAR, month=mta_df.PERIOD_MONTH, day=1))\n",
    "mta_df = mta_df.set_index(['Date'])\n",
    "mta_df[:3]"
   ]
  },
  {
   "cell_type": "code",
   "execution_count": 6,
   "metadata": {
    "scrolled": true
   },
   "outputs": [
    {
     "name": "stdout",
     "output_type": "stream",
     "text": [
      "<class 'pandas.core.frame.DataFrame'>\n",
      "RangeIndex: 9213 entries, 0 to 9212\n",
      "Data columns (total 4 columns):\n",
      "INDICATOR_NAME    9213 non-null object\n",
      "PERIOD_YEAR       9213 non-null int64\n",
      "PERIOD_MONTH      9213 non-null int64\n",
      "MONTHLY_ACTUAL    9213 non-null float64\n",
      "dtypes: float64(1), int64(2), object(1)\n",
      "memory usage: 288.0+ KB\n"
     ]
    }
   ],
   "source": [
    "df2 = pd.read_csv(f.open('Performance_NYCT.csv'), encoding=\"iso-8859-1\")\n",
    "df2 = df2[[\"INDICATOR_NAME\", \"PERIOD_YEAR\", \"PERIOD_MONTH\", \"MONTHLY_ACTUAL\"]]\n",
    "df2.info()\n",
    "#NYCT Bus Ridership"
   ]
  },
  {
   "cell_type": "code",
   "execution_count": 7,
   "metadata": {},
   "outputs": [
    {
     "data": {
      "text/html": [
       "<div>\n",
       "<style scoped>\n",
       "    .dataframe tbody tr th:only-of-type {\n",
       "        vertical-align: middle;\n",
       "    }\n",
       "\n",
       "    .dataframe tbody tr th {\n",
       "        vertical-align: top;\n",
       "    }\n",
       "\n",
       "    .dataframe thead th {\n",
       "        text-align: right;\n",
       "    }\n",
       "</style>\n",
       "<table border=\"1\" class=\"dataframe\">\n",
       "  <thead>\n",
       "    <tr style=\"text-align: right;\">\n",
       "      <th></th>\n",
       "      <th>INDICATOR_NAME</th>\n",
       "      <th>PERIOD_YEAR</th>\n",
       "      <th>PERIOD_MONTH</th>\n",
       "      <th>MONTHLY_ACTUAL</th>\n",
       "    </tr>\n",
       "  </thead>\n",
       "  <tbody>\n",
       "    <tr>\n",
       "      <th>6495</th>\n",
       "      <td>Total Ridership - NYCT Bus</td>\n",
       "      <td>2016</td>\n",
       "      <td>1</td>\n",
       "      <td>49049885.0</td>\n",
       "    </tr>\n",
       "    <tr>\n",
       "      <th>6496</th>\n",
       "      <td>Total Ridership - NYCT Bus</td>\n",
       "      <td>2016</td>\n",
       "      <td>2</td>\n",
       "      <td>50327673.0</td>\n",
       "    </tr>\n",
       "    <tr>\n",
       "      <th>6497</th>\n",
       "      <td>Total Ridership - NYCT Bus</td>\n",
       "      <td>2016</td>\n",
       "      <td>3</td>\n",
       "      <td>58720672.0</td>\n",
       "    </tr>\n",
       "  </tbody>\n",
       "</table>\n",
       "</div>"
      ],
      "text/plain": [
       "                   INDICATOR_NAME  PERIOD_YEAR  PERIOD_MONTH  MONTHLY_ACTUAL\n",
       "6495  Total Ridership - NYCT Bus          2016             1      49049885.0\n",
       "6496  Total Ridership - NYCT Bus          2016             2      50327673.0\n",
       "6497  Total Ridership - NYCT Bus          2016             3      58720672.0"
      ]
     },
     "execution_count": 7,
     "metadata": {},
     "output_type": "execute_result"
    }
   ],
   "source": [
    "nyct_df = df2[((df2.PERIOD_YEAR > 2015))&(df2.INDICATOR_NAME == \"Total Ridership - NYCT Bus \")]\n",
    "nyct_df[:3]"
   ]
  },
  {
   "cell_type": "code",
   "execution_count": 8,
   "metadata": {},
   "outputs": [
    {
     "name": "stderr",
     "output_type": "stream",
     "text": [
      "/home/user/.virtualenvs/crosscompute/lib/python3.6/site-packages/ipykernel_launcher.py:1: SettingWithCopyWarning: \n",
      "A value is trying to be set on a copy of a slice from a DataFrame.\n",
      "Try using .loc[row_indexer,col_indexer] = value instead\n",
      "\n",
      "See the caveats in the documentation: http://pandas.pydata.org/pandas-docs/stable/indexing.html#indexing-view-versus-copy\n",
      "  \"\"\"Entry point for launching an IPython kernel.\n"
     ]
    },
    {
     "data": {
      "text/html": [
       "<div>\n",
       "<style scoped>\n",
       "    .dataframe tbody tr th:only-of-type {\n",
       "        vertical-align: middle;\n",
       "    }\n",
       "\n",
       "    .dataframe tbody tr th {\n",
       "        vertical-align: top;\n",
       "    }\n",
       "\n",
       "    .dataframe thead th {\n",
       "        text-align: right;\n",
       "    }\n",
       "</style>\n",
       "<table border=\"1\" class=\"dataframe\">\n",
       "  <thead>\n",
       "    <tr style=\"text-align: right;\">\n",
       "      <th></th>\n",
       "      <th>INDICATOR_NAME</th>\n",
       "      <th>PERIOD_YEAR</th>\n",
       "      <th>PERIOD_MONTH</th>\n",
       "      <th>MONTHLY_ACTUAL</th>\n",
       "    </tr>\n",
       "    <tr>\n",
       "      <th>Date</th>\n",
       "      <th></th>\n",
       "      <th></th>\n",
       "      <th></th>\n",
       "      <th></th>\n",
       "    </tr>\n",
       "  </thead>\n",
       "  <tbody>\n",
       "    <tr>\n",
       "      <th>2016-01-01</th>\n",
       "      <td>Total Ridership - NYCT Bus</td>\n",
       "      <td>2016</td>\n",
       "      <td>1</td>\n",
       "      <td>49049885.0</td>\n",
       "    </tr>\n",
       "    <tr>\n",
       "      <th>2016-02-01</th>\n",
       "      <td>Total Ridership - NYCT Bus</td>\n",
       "      <td>2016</td>\n",
       "      <td>2</td>\n",
       "      <td>50327673.0</td>\n",
       "    </tr>\n",
       "    <tr>\n",
       "      <th>2016-03-01</th>\n",
       "      <td>Total Ridership - NYCT Bus</td>\n",
       "      <td>2016</td>\n",
       "      <td>3</td>\n",
       "      <td>58720672.0</td>\n",
       "    </tr>\n",
       "  </tbody>\n",
       "</table>\n",
       "</div>"
      ],
      "text/plain": [
       "                         INDICATOR_NAME  PERIOD_YEAR  PERIOD_MONTH  \\\n",
       "Date                                                                 \n",
       "2016-01-01  Total Ridership - NYCT Bus          2016             1   \n",
       "2016-02-01  Total Ridership - NYCT Bus          2016             2   \n",
       "2016-03-01  Total Ridership - NYCT Bus          2016             3   \n",
       "\n",
       "            MONTHLY_ACTUAL  \n",
       "Date                        \n",
       "2016-01-01      49049885.0  \n",
       "2016-02-01      50327673.0  \n",
       "2016-03-01      58720672.0  "
      ]
     },
     "execution_count": 8,
     "metadata": {},
     "output_type": "execute_result"
    }
   ],
   "source": [
    "nyct_df['Date'] = pd.to_datetime(dict(year=nyct_df.PERIOD_YEAR, month=nyct_df.PERIOD_MONTH, day=1))\n",
    "nyct_df = nyct_df.set_index(['Date'])\n",
    "nyct_df[:3]"
   ]
  },
  {
   "cell_type": "code",
   "execution_count": 9,
   "metadata": {},
   "outputs": [
    {
     "data": {
      "text/html": [
       "<div>\n",
       "<style scoped>\n",
       "    .dataframe tbody tr th:only-of-type {\n",
       "        vertical-align: middle;\n",
       "    }\n",
       "\n",
       "    .dataframe tbody tr th {\n",
       "        vertical-align: top;\n",
       "    }\n",
       "\n",
       "    .dataframe thead th {\n",
       "        text-align: right;\n",
       "    }\n",
       "</style>\n",
       "<table border=\"1\" class=\"dataframe\">\n",
       "  <thead>\n",
       "    <tr style=\"text-align: right;\">\n",
       "      <th></th>\n",
       "      <th>INDICATOR_NAME</th>\n",
       "      <th>PERIOD_YEAR</th>\n",
       "      <th>PERIOD_MONTH</th>\n",
       "      <th>MONTHLY_ACTUAL</th>\n",
       "    </tr>\n",
       "    <tr>\n",
       "      <th>Date</th>\n",
       "      <th></th>\n",
       "      <th></th>\n",
       "      <th></th>\n",
       "      <th></th>\n",
       "    </tr>\n",
       "  </thead>\n",
       "  <tbody>\n",
       "    <tr>\n",
       "      <th>2016-01-01</th>\n",
       "      <td>Total Ridership - MTA Bus</td>\n",
       "      <td>2016</td>\n",
       "      <td>1</td>\n",
       "      <td>9464783.0</td>\n",
       "    </tr>\n",
       "    <tr>\n",
       "      <th>2016-02-01</th>\n",
       "      <td>Total Ridership - MTA Bus</td>\n",
       "      <td>2016</td>\n",
       "      <td>2</td>\n",
       "      <td>9650946.0</td>\n",
       "    </tr>\n",
       "    <tr>\n",
       "      <th>2016-03-01</th>\n",
       "      <td>Total Ridership - MTA Bus</td>\n",
       "      <td>2016</td>\n",
       "      <td>3</td>\n",
       "      <td>11393621.0</td>\n",
       "    </tr>\n",
       "  </tbody>\n",
       "</table>\n",
       "</div>"
      ],
      "text/plain": [
       "                        INDICATOR_NAME  PERIOD_YEAR  PERIOD_MONTH  \\\n",
       "Date                                                                \n",
       "2016-01-01  Total Ridership - MTA Bus          2016             1   \n",
       "2016-02-01  Total Ridership - MTA Bus          2016             2   \n",
       "2016-03-01  Total Ridership - MTA Bus          2016             3   \n",
       "\n",
       "            MONTHLY_ACTUAL  \n",
       "Date                        \n",
       "2016-01-01       9464783.0  \n",
       "2016-02-01       9650946.0  \n",
       "2016-03-01      11393621.0  "
      ]
     },
     "execution_count": 9,
     "metadata": {},
     "output_type": "execute_result"
    }
   ],
   "source": [
    "mta_df[:3]"
   ]
  },
  {
   "cell_type": "code",
   "execution_count": 10,
   "metadata": {},
   "outputs": [
    {
     "name": "stderr",
     "output_type": "stream",
     "text": [
      "/home/user/.virtualenvs/crosscompute/lib/python3.6/site-packages/ipykernel_launcher.py:4: FutureWarning: The signature of `Series.to_csv` was aligned to that of `DataFrame.to_csv`, and argument 'header' will change its default value from False to True: please pass an explicit value to suppress this warning.\n",
      "  after removing the cwd from sys.path.\n"
     ]
    }
   ],
   "source": [
    "mta_df['Ridership'] = mta_df['MONTHLY_ACTUAL'].values + nyct_df['MONTHLY_ACTUAL'].values\n",
    "bus_reg = mta_df['Ridership']\n",
    "bus_reg[:3]\n",
    "bus_reg.to_csv('monthly_bus_count.csv', index = False)"
   ]
  },
  {
   "cell_type": "code",
   "execution_count": 11,
   "metadata": {
    "scrolled": false
   },
   "outputs": [
    {
     "name": "stderr",
     "output_type": "stream",
     "text": [
      "/home/user/.virtualenvs/crosscompute/lib/python3.6/site-packages/pandas/plotting/_converter.py:129: FutureWarning: Using an implicitly registered datetime converter for a matplotlib plotting method. The converter was registered by pandas on import. Future versions of pandas will require you to explicitly register matplotlib converters.\n",
      "\n",
      "To register the converters:\n",
      "\t>>> from pandas.plotting import register_matplotlib_converters\n",
      "\t>>> register_matplotlib_converters()\n",
      "  warnings.warn(msg, FutureWarning)\n"
     ]
    },
    {
     "data": {
      "image/png": "[encoded data removed]",
      "text/plain": [
       "<matplotlib.figure.Figure at 0x7f8b84680518>"
      ]
     },
     "metadata": {
      "needs_background": "light"
     },
     "output_type": "display_data"
    }
   ],
   "source": [
    "import matplotlib.pyplot as plt\n",
    "%matplotlib inline\n",
    "plt.plot(bus_reg)\n",
    "plt.title(\"Monthly Bus Ridership\")\n",
    "plt.xlabel(\"Month\")\n",
    "plt.ylabel(\"Bus Ridership\")\n",
    "plt.xticks(rotation = 45)\n",
    "plt.savefig('bus.png')\n",
    "plt.show()"
   ]
  },
  {
   "cell_type": "code",
   "execution_count": 12,
   "metadata": {},
   "outputs": [
    {
     "data": {
      "text/html": [
       "<div>\n",
       "<style scoped>\n",
       "    .dataframe tbody tr th:only-of-type {\n",
       "        vertical-align: middle;\n",
       "    }\n",
       "\n",
       "    .dataframe tbody tr th {\n",
       "        vertical-align: top;\n",
       "    }\n",
       "\n",
       "    .dataframe thead th {\n",
       "        text-align: right;\n",
       "    }\n",
       "</style>\n",
       "<table border=\"1\" class=\"dataframe\">\n",
       "  <thead>\n",
       "    <tr style=\"text-align: right;\">\n",
       "      <th></th>\n",
       "      <th>PERIOD_YEAR</th>\n",
       "      <th>PERIOD_MONTH</th>\n",
       "      <th>MONTHLY_ACTUAL</th>\n",
       "    </tr>\n",
       "  </thead>\n",
       "  <tbody>\n",
       "    <tr>\n",
       "      <th>count</th>\n",
       "      <td>124.000000</td>\n",
       "      <td>124.000000</td>\n",
       "      <td>1.240000e+02</td>\n",
       "    </tr>\n",
       "    <tr>\n",
       "      <th>mean</th>\n",
       "      <td>2012.677419</td>\n",
       "      <td>6.370968</td>\n",
       "      <td>1.016879e+07</td>\n",
       "    </tr>\n",
       "    <tr>\n",
       "      <th>std</th>\n",
       "      <td>3.000131</td>\n",
       "      <td>3.488582</td>\n",
       "      <td>6.443227e+05</td>\n",
       "    </tr>\n",
       "    <tr>\n",
       "      <th>min</th>\n",
       "      <td>2008.000000</td>\n",
       "      <td>1.000000</td>\n",
       "      <td>8.458189e+06</td>\n",
       "    </tr>\n",
       "    <tr>\n",
       "      <th>25%</th>\n",
       "      <td>2010.000000</td>\n",
       "      <td>3.000000</td>\n",
       "      <td>9.688108e+06</td>\n",
       "    </tr>\n",
       "    <tr>\n",
       "      <th>50%</th>\n",
       "      <td>2013.000000</td>\n",
       "      <td>6.000000</td>\n",
       "      <td>1.016291e+07</td>\n",
       "    </tr>\n",
       "    <tr>\n",
       "      <th>75%</th>\n",
       "      <td>2015.000000</td>\n",
       "      <td>9.000000</td>\n",
       "      <td>1.057170e+07</td>\n",
       "    </tr>\n",
       "    <tr>\n",
       "      <th>max</th>\n",
       "      <td>2018.000000</td>\n",
       "      <td>12.000000</td>\n",
       "      <td>1.181045e+07</td>\n",
       "    </tr>\n",
       "  </tbody>\n",
       "</table>\n",
       "</div>"
      ],
      "text/plain": [
       "       PERIOD_YEAR  PERIOD_MONTH  MONTHLY_ACTUAL\n",
       "count   124.000000    124.000000    1.240000e+02\n",
       "mean   2012.677419      6.370968    1.016879e+07\n",
       "std       3.000131      3.488582    6.443227e+05\n",
       "min    2008.000000      1.000000    8.458189e+06\n",
       "25%    2010.000000      3.000000    9.688108e+06\n",
       "50%    2013.000000      6.000000    1.016291e+07\n",
       "75%    2015.000000      9.000000    1.057170e+07\n",
       "max    2018.000000     12.000000    1.181045e+07"
      ]
     },
     "execution_count": 12,
     "metadata": {},
     "output_type": "execute_result"
    }
   ],
   "source": [
    "mta_month = df1[df1['INDICATOR_NAME'] == 'Total Ridership - MTA Bus ']\n",
    "mta_month.describe()"
   ]
  },
  {
   "cell_type": "code",
   "execution_count": 13,
   "metadata": {},
   "outputs": [
    {
     "data": {
      "text/html": [
       "<div>\n",
       "<style scoped>\n",
       "    .dataframe tbody tr th:only-of-type {\n",
       "        vertical-align: middle;\n",
       "    }\n",
       "\n",
       "    .dataframe tbody tr th {\n",
       "        vertical-align: top;\n",
       "    }\n",
       "\n",
       "    .dataframe thead th {\n",
       "        text-align: right;\n",
       "    }\n",
       "</style>\n",
       "<table border=\"1\" class=\"dataframe\">\n",
       "  <thead>\n",
       "    <tr style=\"text-align: right;\">\n",
       "      <th></th>\n",
       "      <th>PERIOD_YEAR</th>\n",
       "      <th>PERIOD_MONTH</th>\n",
       "      <th>MONTHLY_ACTUAL</th>\n",
       "    </tr>\n",
       "  </thead>\n",
       "  <tbody>\n",
       "    <tr>\n",
       "      <th>count</th>\n",
       "      <td>124.000000</td>\n",
       "      <td>124.000000</td>\n",
       "      <td>1.240000e+02</td>\n",
       "    </tr>\n",
       "    <tr>\n",
       "      <th>mean</th>\n",
       "      <td>2012.677419</td>\n",
       "      <td>6.370968</td>\n",
       "      <td>5.580735e+07</td>\n",
       "    </tr>\n",
       "    <tr>\n",
       "      <th>std</th>\n",
       "      <td>3.000131</td>\n",
       "      <td>3.488582</td>\n",
       "      <td>4.850119e+06</td>\n",
       "    </tr>\n",
       "    <tr>\n",
       "      <th>min</th>\n",
       "      <td>2008.000000</td>\n",
       "      <td>1.000000</td>\n",
       "      <td>4.468676e+07</td>\n",
       "    </tr>\n",
       "    <tr>\n",
       "      <th>25%</th>\n",
       "      <td>2010.000000</td>\n",
       "      <td>3.000000</td>\n",
       "      <td>5.238607e+07</td>\n",
       "    </tr>\n",
       "    <tr>\n",
       "      <th>50%</th>\n",
       "      <td>2013.000000</td>\n",
       "      <td>6.000000</td>\n",
       "      <td>5.536962e+07</td>\n",
       "    </tr>\n",
       "    <tr>\n",
       "      <th>75%</th>\n",
       "      <td>2015.000000</td>\n",
       "      <td>9.000000</td>\n",
       "      <td>5.921923e+07</td>\n",
       "    </tr>\n",
       "    <tr>\n",
       "      <th>max</th>\n",
       "      <td>2018.000000</td>\n",
       "      <td>12.000000</td>\n",
       "      <td>6.739000e+07</td>\n",
       "    </tr>\n",
       "  </tbody>\n",
       "</table>\n",
       "</div>"
      ],
      "text/plain": [
       "       PERIOD_YEAR  PERIOD_MONTH  MONTHLY_ACTUAL\n",
       "count   124.000000    124.000000    1.240000e+02\n",
       "mean   2012.677419      6.370968    5.580735e+07\n",
       "std       3.000131      3.488582    4.850119e+06\n",
       "min    2008.000000      1.000000    4.468676e+07\n",
       "25%    2010.000000      3.000000    5.238607e+07\n",
       "50%    2013.000000      6.000000    5.536962e+07\n",
       "75%    2015.000000      9.000000    5.921923e+07\n",
       "max    2018.000000     12.000000    6.739000e+07"
      ]
     },
     "execution_count": 13,
     "metadata": {},
     "output_type": "execute_result"
    }
   ],
   "source": [
    "df3 = df2[df2['INDICATOR_NAME'] == 'Total Ridership - NYCT Bus ']\n",
    "df3.describe()"
   ]
  },
  {
   "cell_type": "code",
   "execution_count": 14,
   "metadata": {},
   "outputs": [
    {
     "data": {
      "text/html": [
       "<div>\n",
       "<style scoped>\n",
       "    .dataframe tbody tr th:only-of-type {\n",
       "        vertical-align: middle;\n",
       "    }\n",
       "\n",
       "    .dataframe tbody tr th {\n",
       "        vertical-align: top;\n",
       "    }\n",
       "\n",
       "    .dataframe thead th {\n",
       "        text-align: right;\n",
       "    }\n",
       "</style>\n",
       "<table border=\"1\" class=\"dataframe\">\n",
       "  <thead>\n",
       "    <tr style=\"text-align: right;\">\n",
       "      <th></th>\n",
       "      <th>INDICATOR_NAME</th>\n",
       "      <th>PERIOD_YEAR</th>\n",
       "      <th>PERIOD_MONTH</th>\n",
       "      <th>MONTHLY_ACTUAL</th>\n",
       "    </tr>\n",
       "  </thead>\n",
       "  <tbody>\n",
       "    <tr>\n",
       "      <th>0</th>\n",
       "      <td>Total Ridership - NYCT Bus</td>\n",
       "      <td>2008</td>\n",
       "      <td>1</td>\n",
       "      <td>60889506.0</td>\n",
       "    </tr>\n",
       "    <tr>\n",
       "      <th>1</th>\n",
       "      <td>Total Ridership - NYCT Bus</td>\n",
       "      <td>2008</td>\n",
       "      <td>2</td>\n",
       "      <td>57631961.0</td>\n",
       "    </tr>\n",
       "    <tr>\n",
       "      <th>2</th>\n",
       "      <td>Total Ridership - NYCT Bus</td>\n",
       "      <td>2008</td>\n",
       "      <td>3</td>\n",
       "      <td>64147814.0</td>\n",
       "    </tr>\n",
       "    <tr>\n",
       "      <th>3</th>\n",
       "      <td>Total Ridership - NYCT Bus</td>\n",
       "      <td>2008</td>\n",
       "      <td>4</td>\n",
       "      <td>63701847.0</td>\n",
       "    </tr>\n",
       "    <tr>\n",
       "      <th>4</th>\n",
       "      <td>Total Ridership - NYCT Bus</td>\n",
       "      <td>2008</td>\n",
       "      <td>5</td>\n",
       "      <td>65582363.0</td>\n",
       "    </tr>\n",
       "  </tbody>\n",
       "</table>\n",
       "</div>"
      ],
      "text/plain": [
       "                INDICATOR_NAME  PERIOD_YEAR  PERIOD_MONTH  MONTHLY_ACTUAL\n",
       "0  Total Ridership - NYCT Bus          2008             1      60889506.0\n",
       "1  Total Ridership - NYCT Bus          2008             2      57631961.0\n",
       "2  Total Ridership - NYCT Bus          2008             3      64147814.0\n",
       "3  Total Ridership - NYCT Bus          2008             4      63701847.0\n",
       "4  Total Ridership - NYCT Bus          2008             5      65582363.0"
      ]
     },
     "execution_count": 14,
     "metadata": {},
     "output_type": "execute_result"
    }
   ],
   "source": [
    "df3 = df3.reset_index(drop=True)\n",
    "df3[:5]"
   ]
  },
  {
   "cell_type": "code",
   "execution_count": 15,
   "metadata": {},
   "outputs": [
    {
     "data": {
      "text/html": [
       "<div>\n",
       "<style scoped>\n",
       "    .dataframe tbody tr th:only-of-type {\n",
       "        vertical-align: middle;\n",
       "    }\n",
       "\n",
       "    .dataframe tbody tr th {\n",
       "        vertical-align: top;\n",
       "    }\n",
       "\n",
       "    .dataframe thead th {\n",
       "        text-align: right;\n",
       "    }\n",
       "</style>\n",
       "<table border=\"1\" class=\"dataframe\">\n",
       "  <thead>\n",
       "    <tr style=\"text-align: right;\">\n",
       "      <th></th>\n",
       "      <th>INDICATOR_NAME</th>\n",
       "      <th>PERIOD_YEAR</th>\n",
       "      <th>PERIOD_MONTH</th>\n",
       "      <th>MONTHLY_ACTUAL</th>\n",
       "    </tr>\n",
       "  </thead>\n",
       "  <tbody>\n",
       "    <tr>\n",
       "      <th>0</th>\n",
       "      <td>Total Ridership - MTA Bus</td>\n",
       "      <td>2008</td>\n",
       "      <td>1</td>\n",
       "      <td>9528068.0</td>\n",
       "    </tr>\n",
       "    <tr>\n",
       "      <th>1</th>\n",
       "      <td>Total Ridership - MTA Bus</td>\n",
       "      <td>2008</td>\n",
       "      <td>2</td>\n",
       "      <td>9087705.0</td>\n",
       "    </tr>\n",
       "    <tr>\n",
       "      <th>2</th>\n",
       "      <td>Total Ridership - MTA Bus</td>\n",
       "      <td>2008</td>\n",
       "      <td>3</td>\n",
       "      <td>10145256.0</td>\n",
       "    </tr>\n",
       "    <tr>\n",
       "      <th>3</th>\n",
       "      <td>Total Ridership - MTA Bus</td>\n",
       "      <td>2008</td>\n",
       "      <td>4</td>\n",
       "      <td>10234615.0</td>\n",
       "    </tr>\n",
       "    <tr>\n",
       "      <th>4</th>\n",
       "      <td>Total Ridership - MTA Bus</td>\n",
       "      <td>2008</td>\n",
       "      <td>5</td>\n",
       "      <td>10491142.0</td>\n",
       "    </tr>\n",
       "  </tbody>\n",
       "</table>\n",
       "</div>"
      ],
      "text/plain": [
       "               INDICATOR_NAME  PERIOD_YEAR  PERIOD_MONTH  MONTHLY_ACTUAL\n",
       "0  Total Ridership - MTA Bus          2008             1       9528068.0\n",
       "1  Total Ridership - MTA Bus          2008             2       9087705.0\n",
       "2  Total Ridership - MTA Bus          2008             3      10145256.0\n",
       "3  Total Ridership - MTA Bus          2008             4      10234615.0\n",
       "4  Total Ridership - MTA Bus          2008             5      10491142.0"
      ]
     },
     "execution_count": 15,
     "metadata": {},
     "output_type": "execute_result"
    }
   ],
   "source": [
    "mta_month = mta_month.reset_index(drop=True)\n",
    "mta_month[:5]"
   ]
  },
  {
   "cell_type": "code",
   "execution_count": 16,
   "metadata": {},
   "outputs": [
    {
     "data": {
      "text/html": [
       "<div>\n",
       "<style scoped>\n",
       "    .dataframe tbody tr th:only-of-type {\n",
       "        vertical-align: middle;\n",
       "    }\n",
       "\n",
       "    .dataframe tbody tr th {\n",
       "        vertical-align: top;\n",
       "    }\n",
       "\n",
       "    .dataframe thead th {\n",
       "        text-align: right;\n",
       "    }\n",
       "</style>\n",
       "<table border=\"1\" class=\"dataframe\">\n",
       "  <thead>\n",
       "    <tr style=\"text-align: right;\">\n",
       "      <th></th>\n",
       "      <th>PERIOD_YEAR</th>\n",
       "      <th>PERIOD_MONTH</th>\n",
       "      <th>MONTHLY_ACTUAL</th>\n",
       "    </tr>\n",
       "  </thead>\n",
       "  <tbody>\n",
       "    <tr>\n",
       "      <th>0</th>\n",
       "      <td>2008</td>\n",
       "      <td>1</td>\n",
       "      <td>70417574.0</td>\n",
       "    </tr>\n",
       "    <tr>\n",
       "      <th>1</th>\n",
       "      <td>2008</td>\n",
       "      <td>2</td>\n",
       "      <td>66719666.0</td>\n",
       "    </tr>\n",
       "    <tr>\n",
       "      <th>2</th>\n",
       "      <td>2008</td>\n",
       "      <td>3</td>\n",
       "      <td>74293070.0</td>\n",
       "    </tr>\n",
       "    <tr>\n",
       "      <th>3</th>\n",
       "      <td>2008</td>\n",
       "      <td>4</td>\n",
       "      <td>73936462.0</td>\n",
       "    </tr>\n",
       "    <tr>\n",
       "      <th>4</th>\n",
       "      <td>2008</td>\n",
       "      <td>5</td>\n",
       "      <td>76073505.0</td>\n",
       "    </tr>\n",
       "  </tbody>\n",
       "</table>\n",
       "</div>"
      ],
      "text/plain": [
       "   PERIOD_YEAR  PERIOD_MONTH  MONTHLY_ACTUAL\n",
       "0         2008             1      70417574.0\n",
       "1         2008             2      66719666.0\n",
       "2         2008             3      74293070.0\n",
       "3         2008             4      73936462.0\n",
       "4         2008             5      76073505.0"
      ]
     },
     "execution_count": 16,
     "metadata": {},
     "output_type": "execute_result"
    }
   ],
   "source": [
    "mta_month['MONTHLY_ACTUAL'] = mta_month['MONTHLY_ACTUAL'].add(df3['MONTHLY_ACTUAL'])\n",
    "mta_month = mta_month.drop(columns = ['INDICATOR_NAME'])\n",
    "mta_month[:5]"
   ]
  },
  {
   "cell_type": "code",
   "execution_count": 17,
   "metadata": {
    "scrolled": true
   },
   "outputs": [
    {
     "data": {
      "text/html": [
       "<div>\n",
       "<style scoped>\n",
       "    .dataframe tbody tr th:only-of-type {\n",
       "        vertical-align: middle;\n",
       "    }\n",
       "\n",
       "    .dataframe tbody tr th {\n",
       "        vertical-align: top;\n",
       "    }\n",
       "\n",
       "    .dataframe thead th {\n",
       "        text-align: right;\n",
       "    }\n",
       "</style>\n",
       "<table border=\"1\" class=\"dataframe\">\n",
       "  <thead>\n",
       "    <tr style=\"text-align: right;\">\n",
       "      <th></th>\n",
       "      <th>PERIOD_YEAR</th>\n",
       "      <th>MONTHLY_ACTUAL</th>\n",
       "    </tr>\n",
       "    <tr>\n",
       "      <th>PERIOD_MONTH</th>\n",
       "      <th></th>\n",
       "      <th></th>\n",
       "    </tr>\n",
       "  </thead>\n",
       "  <tbody>\n",
       "    <tr>\n",
       "      <th>1</th>\n",
       "      <td>2013.0</td>\n",
       "      <td>6.214447e+07</td>\n",
       "    </tr>\n",
       "    <tr>\n",
       "      <th>2</th>\n",
       "      <td>2013.0</td>\n",
       "      <td>6.006002e+07</td>\n",
       "    </tr>\n",
       "    <tr>\n",
       "      <th>3</th>\n",
       "      <td>2013.0</td>\n",
       "      <td>7.002811e+07</td>\n",
       "    </tr>\n",
       "    <tr>\n",
       "      <th>4</th>\n",
       "      <td>2013.0</td>\n",
       "      <td>6.695461e+07</td>\n",
       "    </tr>\n",
       "    <tr>\n",
       "      <th>5</th>\n",
       "      <td>2012.5</td>\n",
       "      <td>7.071510e+07</td>\n",
       "    </tr>\n",
       "  </tbody>\n",
       "</table>\n",
       "</div>"
      ],
      "text/plain": [
       "              PERIOD_YEAR  MONTHLY_ACTUAL\n",
       "PERIOD_MONTH                             \n",
       "1                  2013.0    6.214447e+07\n",
       "2                  2013.0    6.006002e+07\n",
       "3                  2013.0    7.002811e+07\n",
       "4                  2013.0    6.695461e+07\n",
       "5                  2012.5    7.071510e+07"
      ]
     },
     "execution_count": 17,
     "metadata": {},
     "output_type": "execute_result"
    }
   ],
   "source": [
    "avg_monthly_count = mta_month.groupby('PERIOD_MONTH').mean() \n",
    "avg_monthly_count[:5]"
   ]
  },
  {
   "cell_type": "code",
   "execution_count": 18,
   "metadata": {},
   "outputs": [
    {
     "data": {
      "image/png": "[encoded data removed]",
      "text/plain": [
       "<matplotlib.figure.Figure at 0x7f8b7cec34a8>"
      ]
     },
     "metadata": {
      "needs_background": "light"
     },
     "output_type": "display_data"
    }
   ],
   "source": [
    "avg_monthly_count = avg_monthly_count[['MONTHLY_ACTUAL']]\n",
    "fig_month = avg_monthly_count.plot()\n",
    "\n",
    "plt.title('Mean Bus Ridership by Month')\n",
    "plt.xlabel('Month')\n",
    "plt.ylabel('Ridership')\n",
    "plt.xticks(range(0,13))\n",
    "plt.show()"
   ]
  },
  {
   "cell_type": "code",
   "execution_count": 19,
   "metadata": {},
   "outputs": [],
   "source": [
    "avg_monthly_count.to_csv('ARIMAbusmonthly.csv')"
   ]
  },
  {
   "cell_type": "code",
   "execution_count": 21,
   "metadata": {},
   "outputs": [
    {
     "data": {
      "text/html": [
       "<div>\n",
       "<style scoped>\n",
       "    .dataframe tbody tr th:only-of-type {\n",
       "        vertical-align: middle;\n",
       "    }\n",
       "\n",
       "    .dataframe tbody tr th {\n",
       "        vertical-align: top;\n",
       "    }\n",
       "\n",
       "    .dataframe thead th {\n",
       "        text-align: right;\n",
       "    }\n",
       "</style>\n",
       "<table border=\"1\" class=\"dataframe\">\n",
       "  <thead>\n",
       "    <tr style=\"text-align: right;\">\n",
       "      <th></th>\n",
       "      <th>Total Dispatched Trips</th>\n",
       "    </tr>\n",
       "  </thead>\n",
       "  <tbody>\n",
       "    <tr>\n",
       "      <th>0</th>\n",
       "      <td>8323057</td>\n",
       "    </tr>\n",
       "    <tr>\n",
       "      <th>1</th>\n",
       "      <td>9330832</td>\n",
       "    </tr>\n",
       "    <tr>\n",
       "      <th>2</th>\n",
       "      <td>9548284</td>\n",
       "    </tr>\n",
       "  </tbody>\n",
       "</table>\n",
       "</div>"
      ],
      "text/plain": [
       "   Total Dispatched Trips\n",
       "0                 8323057\n",
       "1                 9330832\n",
       "2                 9548284"
      ]
     },
     "execution_count": 21,
     "metadata": {},
     "output_type": "execute_result"
    }
   ],
   "source": [
    "fhv_reg = pd.read_csv(FHV_table_path)\n",
    "fhv_reg[:3]"
   ]
  },
  {
   "cell_type": "code",
   "execution_count": 22,
   "metadata": {
    "scrolled": true
   },
   "outputs": [],
   "source": [
    "import numpy as np\n",
    "from sklearn import datasets\n",
    "from sklearn.linear_model import LinearRegression\n",
    "model = LinearRegression()\n",
    "x = fhv_reg[0:28].values\n",
    "y = bus_reg.values"
   ]
  },
  {
   "cell_type": "code",
   "execution_count": 20,
   "metadata": {},
   "outputs": [],
   "source": [
    "from sklearn.model_selection import cross_val_score\n",
    "models = []\n",
    "scores = []\n",
    "\n",
    "def train(model, X):\n",
    "    model.fit(X, y)\n",
    "    models.append(model)\n",
    "    score = cross_val_score(\n",
    "        model, X, y, cv=3,\n",
    "        scoring='neg_mean_absolute_error',\n",
    "    ).mean()\n",
    "    scores.append(score)\n",
    "    return score"
   ]
  },
  {
   "cell_type": "code",
   "execution_count": 25,
   "metadata": {},
   "outputs": [
    {
     "data": {
      "text/plain": [
       "-2943038.958589543"
      ]
     },
     "execution_count": 25,
     "metadata": {},
     "output_type": "execute_result"
    }
   ],
   "source": [
    "train(LinearRegression(),x)"
   ]
  },
  {
   "cell_type": "code",
   "execution_count": 26,
   "metadata": {
    "scrolled": true
   },
   "outputs": [
    {
     "data": {
      "image/png": "[encoded data removed]",
      "text/plain": [
       "<matplotlib.figure.Figure at 0x7f8b6af697b8>"
      ]
     },
     "metadata": {
      "needs_background": "light"
     },
     "output_type": "display_data"
    }
   ],
   "source": [
    "x = x.reshape(28,1)\n",
    "y = y.reshape(28,1)\n",
    "\n",
    "model.fit(x,y)\n",
    "plt.scatter(x,y)\n",
    "plt.title(\"FHV and MTA Linear Regression\")\n",
    "plt.xlabel(\"FHV Trips\")\n",
    "plt.ylabel(\"MTA Bus Trips\")\n",
    "plt.ylim(4e7,8e7)\n",
    "plt.plot(x,model.predict(x),color=\"red\")\n",
    "plt.show()"
   ]
  },
  {
   "cell_type": "code",
   "execution_count": 41,
   "metadata": {},
   "outputs": [
    {
     "data": {
      "text/plain": [
       "(array([-0.50887474]), array([0.00568559]))"
      ]
     },
     "execution_count": 41,
     "metadata": {},
     "output_type": "execute_result"
    }
   ],
   "source": [
    "from scipy import stats \n",
    "stats.pearsonr(x,y)"
   ]
  },
  {
   "cell_type": "code",
   "execution_count": 24,
   "metadata": {},
   "outputs": [
    {
     "data": {
      "text/html": [
       "<div>\n",
       "<style scoped>\n",
       "    .dataframe tbody tr th:only-of-type {\n",
       "        vertical-align: middle;\n",
       "    }\n",
       "\n",
       "    .dataframe tbody tr th {\n",
       "        vertical-align: top;\n",
       "    }\n",
       "\n",
       "    .dataframe thead th {\n",
       "        text-align: right;\n",
       "    }\n",
       "</style>\n",
       "<table border=\"1\" class=\"dataframe\">\n",
       "  <thead>\n",
       "    <tr style=\"text-align: right;\">\n",
       "      <th></th>\n",
       "      <th>Month - 2</th>\n",
       "      <th>Month - 1</th>\n",
       "      <th>Current Month</th>\n",
       "    </tr>\n",
       "  </thead>\n",
       "  <tbody>\n",
       "    <tr>\n",
       "      <th>0</th>\n",
       "      <td>8323057</td>\n",
       "      <td>9330832</td>\n",
       "      <td>9548284</td>\n",
       "    </tr>\n",
       "    <tr>\n",
       "      <th>1</th>\n",
       "      <td>9330832</td>\n",
       "      <td>9548284</td>\n",
       "      <td>10065141</td>\n",
       "    </tr>\n",
       "    <tr>\n",
       "      <th>2</th>\n",
       "      <td>9548284</td>\n",
       "      <td>10065141</td>\n",
       "      <td>10652598</td>\n",
       "    </tr>\n",
       "  </tbody>\n",
       "</table>\n",
       "</div>"
      ],
      "text/plain": [
       "   Month - 2  Month - 1  Current Month\n",
       "0    8323057    9330832        9548284\n",
       "1    9330832    9548284       10065141\n",
       "2    9548284   10065141       10652598"
      ]
     },
     "execution_count": 24,
     "metadata": {},
     "output_type": "execute_result"
    }
   ],
   "source": [
    "from datetime import timedelta\n",
    "x1 = pd.DataFrame(data=fhv_reg[0:28])\n",
    "x1['b'] = fhv_reg[1:29].values\n",
    "x1['c'] = fhv_reg[2:30].values\n",
    "x1.columns = ['Month - 2','Month - 1','Current Month']\n",
    "x1[:3]"
   ]
  },
  {
   "cell_type": "code",
   "execution_count": 42,
   "metadata": {},
   "outputs": [
    {
     "data": {
      "text/plain": [
       "-2835537.1678167637"
      ]
     },
     "execution_count": 42,
     "metadata": {},
     "output_type": "execute_result"
    }
   ],
   "source": [
    "train(LinearRegression(),x1)"
   ]
  },
  {
   "cell_type": "code",
   "execution_count": 43,
   "metadata": {},
   "outputs": [
    {
     "data": {
      "image/png": "[encoded data removed]",
      "text/plain": [
       "<matplotlib.figure.Figure at 0x7f8b6cc022e8>"
      ]
     },
     "metadata": {
      "needs_background": "light"
     },
     "output_type": "display_data"
    }
   ],
   "source": [
    "model.fit(x1,y)\n",
    "y1 = model.predict(x1)\n",
    "plt.scatter(x,y)\n",
    "plt.ylim(4e7,8e7)\n",
    "plt.plot(x,y1,color=\"red\")\n",
    "plt.show()"
   ]
  },
  {
   "cell_type": "code",
   "execution_count": 46,
   "metadata": {},
   "outputs": [],
   "source": [
    "from sklearn.linear_model import LassoLars\n",
    "model = LassoLars()"
   ]
  },
  {
   "cell_type": "code",
   "execution_count": 47,
   "metadata": {},
   "outputs": [
    {
     "data": {
      "text/plain": [
       "-2835525.865039704"
      ]
     },
     "execution_count": 47,
     "metadata": {},
     "output_type": "execute_result"
    }
   ],
   "source": [
    "train(model,x1)"
   ]
  },
  {
   "cell_type": "code",
   "execution_count": 49,
   "metadata": {},
   "outputs": [],
   "source": [
    "# Save model\n",
    "from pickle import dump\n",
    "dump(model, open('model1.pkl', 'wb'))\n",
    "x1.to_csv('monthly_FHV_count_crossval.csv', index = False)"
   ]
  },
  {
   "cell_type": "code",
   "execution_count": 50,
   "metadata": {},
   "outputs": [
    {
     "name": "stdout",
     "output_type": "stream",
     "text": [
      "total 1472\r\n",
      "-rw-r--r--. 1 user user   5704 Feb 23 04:18  16data.csv\r\n",
      "-rw-r--r--. 1 user user   3539 Feb 23 03:07  2016_For_Hire_Vehicle_Trip_Data.csv\r\n",
      "-rw-r--r--. 1 user user 879094 Feb 23 03:52  2016_tlc_factbook.xlsx\r\n",
      "-rw-r--r--. 1 user user    217 Mar  1 18:03  ARIMAbusmonthly.csv\r\n",
      "-rw-r--r--. 1 user user  24435 Mar  1 17:38  bus.png\r\n",
      "-rw-r--r--. 1 user user  44598 Mar  1 18:12 'Bus Prediction Tool (v1).ipynb'\r\n",
      "-rw-r--r--. 1 user user   3404 Mar  1 18:12 'Bus Prediction Tool (v2).ipynb'\r\n",
      "-rw-r--r--. 1 user user 129438 Mar  1 18:12 'FHV-bus trips regression.ipynb'\r\n",
      "-rw-r--r--. 1 user user  44592 Feb 27 19:50 'FHV data cleansing, prep bus data.ipynb'\r\n",
      "-rw-r--r--. 1 user user   3775 Feb 22 01:21  fhvincome.csv\r\n",
      "-rw-r--r--. 1 user user   5623 Feb 27 20:06 'FHV-Income Hist(log).png'\r\n",
      "-rw-r--r--. 1 user user  10217 Feb 27 20:06 'FHV-Income Hist.png'\r\n",
      "-rw-r--r--. 1 user user  17763 Feb 27 20:11  fhv-income-reg-log.png\r\n",
      "-rw-r--r--. 1 user user  20511 Feb 27 20:11  fhv-income-reg.png\r\n",
      "-rw-r--r--. 1 user user  29571 Feb 27 20:05 'FHV monthly trips.ipynb'\r\n",
      "-rw-r--r--. 1 user user  35158 Feb 22 20:07 'geotable (trips per NTA).ipynb'\r\n",
      "-rw-r--r--. 1 user user  67234 Feb 27 20:12 'Milestone 2 - FHV income correlation.ipynb'\r\n",
      "-rw-r--r--. 1 user user  32489 Feb 27 20:45 'Milestone 3 OHE categorical transform, training model.ipynb'\r\n",
      "-rw-r--r--. 1 user user  64153 Feb 25 09:00 'Milestone 3 training dataset prep.ipynb'\r\n",
      "-rw-r--r--. 1 user user    949 Mar  1 18:12  model1.pkl\r\n",
      "-rw-r--r--. 1 user user   1262 Feb 27 20:27  model3.pkl\r\n",
      "-rw-r--r--. 1 user user    309 Mar  1 17:38  monthly_bus_count.csv\r\n",
      "-rw-r--r--. 1 user user    784 Mar  1 18:12  monthly_FHV_count_crossval.csv\r\n",
      "-rw-r--r--. 1 user user    335 Feb 27 19:59  monthly_FHV_count.csv\r\n",
      "-rw-r--r--. 1 user user    489 Feb 25 08:14  training_dataset.csv\r\n",
      "-rw-r--r--. 1 user user   4829 Feb 15 04:14  trip.csv\r\n",
      "-rw-r--r--. 1 user user   4047 Feb 20 03:45  tripsonly.csv\r\n",
      "-rw-r--r--. 1 user user   3731 Feb 22 01:20  tripsx99.csv\r\n",
      "-rw-r--r--. 1 user user    378 Feb 22 00:42  yearly_busbyboro.csv\r\n",
      "-rw-r--r--. 1 user user    261 Feb 25 07:45  yearly_tripbyboro.csv\r\n",
      "-rw-r--r--. 1 user user   2266 Feb 20 03:42  zone_to_nta.csv\r\n"
     ]
    }
   ],
   "source": [
    "ls -l"
   ]
  },
  {
   "cell_type": "markdown",
   "metadata": {},
   "source": [
    "model.fit(x=x,y=y)"
   ]
  }
 ],
 "metadata": {
  "kernelspec": {
   "display_name": "Python 3",
   "language": "python",
   "name": "python3"
  },
  "language_info": {
   "codemirror_mode": {
    "name": "ipython",
    "version": 3
   },
   "file_extension": ".py",
   "mimetype": "text/x-python",
   "name": "python",
   "nbconvert_exporter": "python",
   "pygments_lexer": "ipython3",
   "version": "3.6.6"
  }
 },
 "nbformat": 4,
 "nbformat_minor": 2
}
